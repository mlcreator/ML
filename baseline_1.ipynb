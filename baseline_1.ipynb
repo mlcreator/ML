{
 "cells": [
  {
   "cell_type": "code",
   "execution_count": 1,
   "metadata": {},
   "outputs": [],
   "source": [
    "import pandas as pd\n",
    "import numpy as np\n",
    "from sklearn.ensemble import RandomForestClassifier\n",
    "from sklearn.model_selection import StratifiedShuffleSplit\n",
    "from sklearn.metrics import roc_auc_score"
   ]
  },
  {
   "cell_type": "code",
   "execution_count": 2,
   "metadata": {},
   "outputs": [],
   "source": [
    "train_directory = \"C:\\\\Users\\\\Acer\\\\Desktop\\\\train.csv\"\n",
    "train = pd.read_csv(train_directory, header = 0)\n",
    "\n",
    "# Добавим факторы. Будем использовать только числовые\n",
    "cols = [i for i in train.columns if (train[i].dtype == \"float64\") or (train[i].dtype == 'int64')]\n",
    "\n",
    "maps = {'yes':1, 'no':0}\n",
    "X, y = train[cols].copy(), train['y'].replace(maps)"
   ]
  },
  {
   "cell_type": "code",
   "execution_count": 3,
   "metadata": {},
   "outputs": [],
   "source": [
    "# Инициализируем перемешивание\n",
    "skf = StratifiedShuffleSplit(n_splits = 5, test_size = 0.2 , random_state = 42)\n",
    "\n",
    "scores = {}\n",
    "for n in range(10, 100, 10):\n",
    "    # Инициализируем классификатор для разного количества деревьев\n",
    "    rfc = RandomForestClassifier(random_state = 42, n_estimators = n)\n",
    "    \n",
    "    for train_index, test_index in skf.split(X, y):\n",
    "\n",
    "        X_train, X_test = X.iloc[train_index], X.iloc[test_index]\n",
    "        y_train, y_test = y.iloc[train_index], y.iloc[test_index]\n",
    "\n",
    "        rfc.fit(X_train, y_train)\n",
    "\n",
    "        probs = rfc.predict_proba(X_test)\n",
    "\n",
    "    met = roc_auc_score(y_test, probs[:, 1])\n",
    "    scores[n] = met.mean()"
   ]
  },
  {
   "cell_type": "code",
   "execution_count": 4,
   "metadata": {},
   "outputs": [
    {
     "data": {
      "text/html": [
       "<div>\n",
       "<style scoped>\n",
       "    .dataframe tbody tr th:only-of-type {\n",
       "        vertical-align: middle;\n",
       "    }\n",
       "\n",
       "    .dataframe tbody tr th {\n",
       "        vertical-align: top;\n",
       "    }\n",
       "\n",
       "    .dataframe thead th {\n",
       "        text-align: right;\n",
       "    }\n",
       "</style>\n",
       "<table border=\"1\" class=\"dataframe\">\n",
       "  <thead>\n",
       "    <tr style=\"text-align: right;\">\n",
       "      <th></th>\n",
       "      <th>AUC-ROC</th>\n",
       "    </tr>\n",
       "  </thead>\n",
       "  <tbody>\n",
       "    <tr>\n",
       "      <td>10</td>\n",
       "      <td>0.899493</td>\n",
       "    </tr>\n",
       "    <tr>\n",
       "      <td>20</td>\n",
       "      <td>0.904814</td>\n",
       "    </tr>\n",
       "    <tr>\n",
       "      <td>30</td>\n",
       "      <td>0.911916</td>\n",
       "    </tr>\n",
       "    <tr>\n",
       "      <td>40</td>\n",
       "      <td>0.919188</td>\n",
       "    </tr>\n",
       "    <tr>\n",
       "      <td>50</td>\n",
       "      <td>0.918254</td>\n",
       "    </tr>\n",
       "    <tr>\n",
       "      <td>60</td>\n",
       "      <td>0.920327</td>\n",
       "    </tr>\n",
       "    <tr>\n",
       "      <td>70</td>\n",
       "      <td>0.919890</td>\n",
       "    </tr>\n",
       "    <tr>\n",
       "      <td>80</td>\n",
       "      <td>0.919987</td>\n",
       "    </tr>\n",
       "    <tr>\n",
       "      <td>90</td>\n",
       "      <td>0.925562</td>\n",
       "    </tr>\n",
       "  </tbody>\n",
       "</table>\n",
       "</div>"
      ],
      "text/plain": [
       "     AUC-ROC\n",
       "10  0.899493\n",
       "20  0.904814\n",
       "30  0.911916\n",
       "40  0.919188\n",
       "50  0.918254\n",
       "60  0.920327\n",
       "70  0.919890\n",
       "80  0.919987\n",
       "90  0.925562"
      ]
     },
     "execution_count": 4,
     "metadata": {},
     "output_type": "execute_result"
    }
   ],
   "source": [
    "scoresDataFrame = pd.DataFrame.from_dict(scores, orient='index')\n",
    "scoresDataFrame.columns =['AUC-ROC']\n",
    "scoresDataFrame"
   ]
  },
  {
   "cell_type": "code",
   "execution_count": null,
   "metadata": {},
   "outputs": [],
   "source": [
    "# При наличии времени можно более подробно подготовить данные: привести к числовому типу, поработать с пропусками, протестировать разные классификаторы"
   ]
  }
 ],
 "metadata": {
  "kernelspec": {
   "display_name": "Python 3",
   "language": "python",
   "name": "python3"
  },
  "language_info": {
   "codemirror_mode": {
    "name": "ipython",
    "version": 3
   },
   "file_extension": ".py",
   "mimetype": "text/x-python",
   "name": "python",
   "nbconvert_exporter": "python",
   "pygments_lexer": "ipython3",
   "version": "3.7.4"
  }
 },
 "nbformat": 4,
 "nbformat_minor": 2
}
